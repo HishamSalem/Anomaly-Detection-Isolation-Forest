{
 "cells": [
  {
   "cell_type": "markdown",
   "metadata": {},
   "source": [
    "# Anomaly Detection"
   ]
  },
  {
   "cell_type": "code",
   "execution_count": 1,
   "metadata": {},
   "outputs": [],
   "source": [
    "import pandas as pd\n",
    "import numpy as np\n",
    "df=pd.read_csv(\"D:\\Downloads\\Production.csv\")\n",
    "\n",
    "x=df[[\"time\"]]\n",
    "Y=df[\"raw_material\"]\n",
    "\n",
    "#train models\n",
    "from sklearn.linear_model import Ridge\n",
    "from sklearn.model_selection import train_test_split\n",
    "x_train,x_test,Y_train,Y_test=train_test_split(x,Y,random_state=3,test_size=0.3)\n"
   ]
  },
  {
   "cell_type": "code",
   "execution_count": 2,
   "metadata": {},
   "outputs": [],
   "source": [
    "ridge_model=Ridge(alpha=1)\n",
    "model=ridge_model.fit(x_train,Y_train)\n",
    "Y_test_pred=model.predict(x_test)\n",
    "\n",
    "from sklearn.metrics import mean_squared_error\n",
    "MSE1=mean_squared_error(Y_test,Y_test_pred)\n",
    "\n",
    "\n",
    "from sklearn.ensemble import IsolationForest\n",
    "iforest=IsolationForest(random_state=3,n_estimators=100,contamination=0.1)\n",
    "\n",
    "\n",
    "pred1= iforest.fit_predict(df)"
   ]
  },
  {
   "cell_type": "code",
   "execution_count": 3,
   "metadata": {},
   "outputs": [
    {
     "name": "stdout",
     "output_type": "stream",
     "text": [
      "0.07952355227707389 0.06167672142012951\n"
     ]
    }
   ],
   "source": [
    "from numpy import where\n",
    "\n",
    "anom_index1=where(pred1==-1)\n",
    "non_anom_index1=where(pred1==1)\n",
    "non_anom_index1 = [element for tupl in non_anom_index1 for element in tupl]\n",
    "x_train,x_test,Y_train,Y_test=train_test_split(x,Y,random_state=3,test_size=0.3)\n",
    "\n",
    "\n",
    "x_train=x_train[x_train.index.isin(non_anom_index1)]\n",
    "Y_train=Y_train[Y_train.index.isin(non_anom_index1)]\n",
    "x_test=x_test[x_test.index.isin(non_anom_index1)]\n",
    "Y_test=Y_test[Y_test.index.isin(non_anom_index1)]\n",
    "\n",
    "ridge_model=Ridge(alpha=1)\n",
    "model2=ridge_model.fit(x_train,Y_train)\n",
    "Y_test_pred1=model2.predict(x_test)\n",
    "\n",
    "MSE2=mean_squared_error(Y_test,Y_test_pred1)\n",
    "\n",
    "#get output\n",
    "print(MSE1,MSE2)"
   ]
  }
 ],
 "metadata": {
  "kernelspec": {
   "display_name": "Python 3",
   "language": "python",
   "name": "python3"
  },
  "language_info": {
   "codemirror_mode": {
    "name": "ipython",
    "version": 3
   },
   "file_extension": ".py",
   "mimetype": "text/x-python",
   "name": "python",
   "nbconvert_exporter": "python",
   "pygments_lexer": "ipython3",
   "version": "3.7.4"
  }
 },
 "nbformat": 4,
 "nbformat_minor": 2
}
